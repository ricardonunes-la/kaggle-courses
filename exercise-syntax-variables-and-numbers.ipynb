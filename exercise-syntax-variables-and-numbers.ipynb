{
 "cells": [
  {
   "cell_type": "markdown",
   "id": "fc53c779",
   "metadata": {
    "papermill": {
     "duration": 0.010464,
     "end_time": "2023-11-18T12:00:54.794151",
     "exception": false,
     "start_time": "2023-11-18T12:00:54.783687",
     "status": "completed"
    },
    "tags": []
   },
   "source": [
    "**This notebook is an exercise in the [Python](https://www.kaggle.com/learn/python) course.  You can reference the tutorial at [this link](https://www.kaggle.com/colinmorris/hello-python).**\n",
    "\n",
    "---\n"
   ]
  },
  {
   "cell_type": "markdown",
   "id": "1be7dde7",
   "metadata": {
    "papermill": {
     "duration": 0.00821,
     "end_time": "2023-11-18T12:00:54.810832",
     "exception": false,
     "start_time": "2023-11-18T12:00:54.802622",
     "status": "completed"
    },
    "tags": []
   },
   "source": [
    "Welcome to your first set of Python coding problems.  If this is your first time using Kaggle Notebooks, welcome! \n",
    "\n",
    "Notebooks are composed of blocks (called \"cells\") of text and code. Each of these is editable, though you'll mainly be editing the code cells to answer some questions.\n",
    "\n",
    "To get started, try running the code cell below (by pressing the ► button, or clicking on the cell and pressing ctrl+enter on your keyboard)."
   ]
  },
  {
   "cell_type": "code",
   "execution_count": null,
   "id": "541a2d93",
   "metadata": {
    "papermill": {
     "duration": 0.00809,
     "end_time": "2023-11-18T12:00:54.827464",
     "exception": false,
     "start_time": "2023-11-18T12:00:54.819374",
     "status": "completed"
    },
    "tags": []
   },
   "outputs": [],
   "source": []
  },
  {
   "cell_type": "code",
   "execution_count": 1,
   "id": "d0bac5d1",
   "metadata": {
    "execution": {
     "iopub.execute_input": "2023-11-18T12:00:54.846531Z",
     "iopub.status.busy": "2023-11-18T12:00:54.846130Z",
     "iopub.status.idle": "2023-11-18T12:00:54.860639Z",
     "shell.execute_reply": "2023-11-18T12:00:54.859311Z"
    },
    "papermill": {
     "duration": 0.027555,
     "end_time": "2023-11-18T12:00:54.863454",
     "exception": false,
     "start_time": "2023-11-18T12:00:54.835899",
     "status": "completed"
    },
    "tags": []
   },
   "outputs": [
    {
     "name": "stdout",
     "output_type": "stream",
     "text": [
      "You've successfully run some Python code\n",
      "Congratulations!\n"
     ]
    }
   ],
   "source": [
    "print(\"You've successfully run some Python code\")\n",
    "print(\"Congratulations!\")"
   ]
  },
  {
   "cell_type": "code",
   "execution_count": null,
   "id": "3ebeaa77",
   "metadata": {
    "papermill": {
     "duration": 0.008454,
     "end_time": "2023-11-18T12:00:54.880745",
     "exception": false,
     "start_time": "2023-11-18T12:00:54.872291",
     "status": "completed"
    },
    "tags": []
   },
   "outputs": [],
   "source": []
  },
  {
   "cell_type": "markdown",
   "id": "b5dbb9bf",
   "metadata": {
    "papermill": {
     "duration": 0.008679,
     "end_time": "2023-11-18T12:00:54.898258",
     "exception": false,
     "start_time": "2023-11-18T12:00:54.889579",
     "status": "completed"
    },
    "tags": []
   },
   "source": [
    "Try adding another line of code in the cell above and re-running it. \n",
    "\n",
    "Now let's get a little fancier:  Add a new code cell by clicking on an existing code cell, hitting the escape key, and then hitting the `a` or `b` key.  The `a` key will add a cell above the current cell, and `b` adds a cell below.\n",
    "\n",
    "Great! Now you know how to use Notebooks.\n",
    "\n",
    "Each hands-on exercise starts by setting up our feedback and code checking mechanism. Run the code cell below to do that. Then you'll be ready to move on to question 0."
   ]
  },
  {
   "cell_type": "code",
   "execution_count": 2,
   "id": "f3a4e98a",
   "metadata": {
    "_kg_hide-input": true,
    "_kg_hide-output": true,
    "execution": {
     "iopub.execute_input": "2023-11-18T12:00:54.917746Z",
     "iopub.status.busy": "2023-11-18T12:00:54.917059Z",
     "iopub.status.idle": "2023-11-18T12:00:55.396354Z",
     "shell.execute_reply": "2023-11-18T12:00:55.395263Z"
    },
    "papermill": {
     "duration": 0.492244,
     "end_time": "2023-11-18T12:00:55.399328",
     "exception": false,
     "start_time": "2023-11-18T12:00:54.907084",
     "status": "completed"
    },
    "tags": []
   },
   "outputs": [
    {
     "name": "stdout",
     "output_type": "stream",
     "text": [
      "Setup complete! You're ready to start question 0.\n"
     ]
    }
   ],
   "source": [
    "from learntools.core import binder; binder.bind(globals())\n",
    "from learntools.python.ex1 import *\n",
    "print(\"Setup complete! You're ready to start question 0.\")"
   ]
  },
  {
   "cell_type": "markdown",
   "id": "7e9ff42c",
   "metadata": {
    "papermill": {
     "duration": 0.008375,
     "end_time": "2023-11-18T12:00:55.416691",
     "exception": false,
     "start_time": "2023-11-18T12:00:55.408316",
     "status": "completed"
    },
    "tags": []
   },
   "source": [
    "# 0.\n",
    "\n",
    "*This is a silly question intended as an introduction to the format we use for hands-on exercises throughout all Kaggle courses.*\n",
    "\n",
    "**What is your favorite color? **\n",
    "\n",
    "To complete this question, create a variable called `color` in the cell below with an appropriate value. The function call `q0.check()` (which we've already provided in the cell below) will check your answer."
   ]
  },
  {
   "cell_type": "code",
   "execution_count": 3,
   "id": "ca975a6b",
   "metadata": {
    "execution": {
     "iopub.execute_input": "2023-11-18T12:00:55.435899Z",
     "iopub.status.busy": "2023-11-18T12:00:55.435387Z",
     "iopub.status.idle": "2023-11-18T12:00:55.445519Z",
     "shell.execute_reply": "2023-11-18T12:00:55.444263Z"
    },
    "papermill": {
     "duration": 0.023087,
     "end_time": "2023-11-18T12:00:55.448272",
     "exception": false,
     "start_time": "2023-11-18T12:00:55.425185",
     "status": "completed"
    },
    "tags": []
   },
   "outputs": [
    {
     "data": {
      "application/javascript": [
       "parent.postMessage({\"jupyterEvent\": \"custom.exercise_interaction\", \"data\": {\"outcomeType\": 1, \"valueTowardsCompletion\": 0.25, \"interactionType\": 1, \"questionType\": 2, \"questionId\": \"0_ExerciseFormatTutorial\", \"learnToolsVersion\": \"0.3.4\", \"failureMessage\": \"\", \"exceptionClass\": \"\", \"trace\": \"\"}}, \"*\")"
      ],
      "text/plain": [
       "<IPython.core.display.Javascript object>"
      ]
     },
     "metadata": {},
     "output_type": "display_data"
    },
    {
     "data": {
      "text/markdown": [
       "<span style=\"color:#33cc33\">Correct:</span> What?! You got it right without needing a hint or anything? Drats. Well hey, you should still continue to the next step to get some practice asking for a hint and checking solutions. (Even though you obviously don't need any help here.)"
      ],
      "text/plain": [
       "Correct: What?! You got it right without needing a hint or anything? Drats. Well hey, you should still continue to the next step to get some practice asking for a hint and checking solutions. (Even though you obviously don't need any help here.)"
      ]
     },
     "metadata": {},
     "output_type": "display_data"
    }
   ],
   "source": [
    "color='blue'\n",
    "\n",
    "q0.check()"
   ]
  },
  {
   "cell_type": "markdown",
   "id": "2fd8eab6",
   "metadata": {
    "papermill": {
     "duration": 0.009106,
     "end_time": "2023-11-18T12:00:55.466335",
     "exception": false,
     "start_time": "2023-11-18T12:00:55.457229",
     "status": "completed"
    },
    "tags": []
   },
   "source": [
    "Didn't get the right answer? How do you not even know your own favorite color?!\n",
    "\n",
    "Delete the `#` in the line below to make one of the lines run. You can choose between getting a hint or the full answer by choosing which line to remove the `#` from. \n",
    "\n",
    "Removing the `#` is called uncommenting, because it changes that line from a \"comment\" which Python doesn't run to code, which Python does run."
   ]
  },
  {
   "cell_type": "code",
   "execution_count": 4,
   "id": "410056be",
   "metadata": {
    "execution": {
     "iopub.execute_input": "2023-11-18T12:00:55.486544Z",
     "iopub.status.busy": "2023-11-18T12:00:55.486151Z",
     "iopub.status.idle": "2023-11-18T12:00:55.499189Z",
     "shell.execute_reply": "2023-11-18T12:00:55.498133Z"
    },
    "papermill": {
     "duration": 0.026137,
     "end_time": "2023-11-18T12:00:55.501608",
     "exception": false,
     "start_time": "2023-11-18T12:00:55.475471",
     "status": "completed"
    },
    "tags": []
   },
   "outputs": [
    {
     "data": {
      "application/javascript": [
       "parent.postMessage({\"jupyterEvent\": \"custom.exercise_interaction\", \"data\": {\"interactionType\": 2, \"questionType\": 2, \"questionId\": \"0_ExerciseFormatTutorial\", \"learnToolsVersion\": \"0.3.4\", \"valueTowardsCompletion\": 0.0, \"failureMessage\": \"\", \"exceptionClass\": \"\", \"trace\": \"\", \"outcomeType\": 4}}, \"*\")"
      ],
      "text/plain": [
       "<IPython.core.display.Javascript object>"
      ]
     },
     "metadata": {},
     "output_type": "display_data"
    },
    {
     "data": {
      "text/markdown": [
       "<span style=\"color:#3366cc\">Hint:</span> Your favorite color rhymes with *glue*."
      ],
      "text/plain": [
       "Hint: Your favorite color rhymes with *glue*."
      ]
     },
     "metadata": {},
     "output_type": "display_data"
    },
    {
     "data": {
      "application/javascript": [
       "parent.postMessage({\"jupyterEvent\": \"custom.exercise_interaction\", \"data\": {\"interactionType\": 3, \"questionType\": 2, \"questionId\": \"0_ExerciseFormatTutorial\", \"learnToolsVersion\": \"0.3.4\", \"valueTowardsCompletion\": 0.0, \"failureMessage\": \"\", \"exceptionClass\": \"\", \"trace\": \"\", \"outcomeType\": 4}}, \"*\")"
      ],
      "text/plain": [
       "<IPython.core.display.Javascript object>"
      ]
     },
     "metadata": {},
     "output_type": "display_data"
    },
    {
     "data": {
      "text/markdown": [
       "<span style=\"color:#33cc99\">Solution:</span> \n",
       "```python\n",
       "color = \"blue\"\n",
       "```"
      ],
      "text/plain": [
       "Solution: \n",
       "```python\n",
       "color = \"blue\"\n",
       "```"
      ]
     },
     "metadata": {},
     "output_type": "display_data"
    }
   ],
   "source": [
    "q0.hint()\n",
    "q0.solution()"
   ]
  },
  {
   "cell_type": "markdown",
   "id": "e28008e9",
   "metadata": {
    "papermill": {
     "duration": 0.009594,
     "end_time": "2023-11-18T12:00:55.521111",
     "exception": false,
     "start_time": "2023-11-18T12:00:55.511517",
     "status": "completed"
    },
    "tags": []
   },
   "source": [
    "The upcoming questions work the same way. The only thing that will change are the question numbers. For the next question, you'll call `q1.check()`, `q1.hint()`, `q1.solution()`, for question 2, you'll call `q2.check()`, and so on."
   ]
  },
  {
   "cell_type": "markdown",
   "id": "382b8b69",
   "metadata": {
    "papermill": {
     "duration": 0.009436,
     "end_time": "2023-11-18T12:00:55.540163",
     "exception": false,
     "start_time": "2023-11-18T12:00:55.530727",
     "status": "completed"
    },
    "tags": []
   },
   "source": [
    "<hr/>\n",
    "\n",
    "# 1.\n",
    "\n",
    "Complete the code below. In case it's helpful, here is the table of available arithmetic operations:\n",
    "\n",
    "\n",
    "\n",
    "| Operator     | Name           | Description                                            |\n",
    "|--------------|----------------|--------------------------------------------------------|\n",
    "| ``a + b``    | Addition       | Sum of ``a`` and ``b``                                 |\n",
    "| ``a - b``    | Subtraction    | Difference of ``a`` and ``b``                          |\n",
    "| ``a * b``    | Multiplication | Product of ``a`` and ``b``                             |\n",
    "| ``a / b``    | True division  | Quotient of ``a`` and ``b``                            |\n",
    "| ``a // b``   | Floor division | Quotient of ``a`` and ``b``, removing fractional parts |\n",
    "| ``a % b``    | Modulus        | Integer remainder after division of ``a`` by ``b``     |\n",
    "| ``a ** b``   | Exponentiation | ``a`` raised to the power of ``b``                     |\n",
    "| ``-a``       | Negation       | The negative of ``a``                                  |\n",
    "\n",
    "<span style=\"display:none\"></span>\n"
   ]
  },
  {
   "cell_type": "code",
   "execution_count": 5,
   "id": "96684b4b",
   "metadata": {
    "execution": {
     "iopub.execute_input": "2023-11-18T12:00:55.562375Z",
     "iopub.status.busy": "2023-11-18T12:00:55.561236Z",
     "iopub.status.idle": "2023-11-18T12:00:55.571082Z",
     "shell.execute_reply": "2023-11-18T12:00:55.570049Z"
    },
    "papermill": {
     "duration": 0.023503,
     "end_time": "2023-11-18T12:00:55.573463",
     "exception": false,
     "start_time": "2023-11-18T12:00:55.549960",
     "status": "completed"
    },
    "tags": []
   },
   "outputs": [
    {
     "data": {
      "application/javascript": [
       "parent.postMessage({\"jupyterEvent\": \"custom.exercise_interaction\", \"data\": {\"outcomeType\": 4, \"interactionType\": 1, \"questionType\": 1, \"questionId\": \"1_CircleArea\", \"learnToolsVersion\": \"0.3.4\", \"valueTowardsCompletion\": 0.0, \"failureMessage\": \"\", \"exceptionClass\": \"\", \"trace\": \"\"}}, \"*\")"
      ],
      "text/plain": [
       "<IPython.core.display.Javascript object>"
      ]
     },
     "metadata": {},
     "output_type": "display_data"
    },
    {
     "data": {
      "text/markdown": [
       "<span style=\"color:#ccaa33\">Check:</span> When you've updated the starter code, `check()` will tell you whether your code is correct. Remember, you must create the following variables: `radius`, `area`"
      ],
      "text/plain": [
       "Check: When you've updated the starter code, `check()` will tell you whether your code is correct. Remember, you must create the following variables: `radius`, `area`"
      ]
     },
     "metadata": {},
     "output_type": "display_data"
    }
   ],
   "source": [
    "pi = 3.14159 # approximate\n",
    "diameter = 3\n",
    "\n",
    "# Create a variable called 'radius' equal to half the diameter\n",
    "\n",
    "____\n",
    "\n",
    "# Create a variable called 'area', using the formula for the area of a circle: pi times the radius squared\n",
    "____\n",
    "\n",
    "# Check your answer\n",
    "q1.check()"
   ]
  },
  {
   "cell_type": "code",
   "execution_count": 6,
   "id": "0e2e21db",
   "metadata": {
    "execution": {
     "iopub.execute_input": "2023-11-18T12:00:55.595863Z",
     "iopub.status.busy": "2023-11-18T12:00:55.595414Z",
     "iopub.status.idle": "2023-11-18T12:00:55.601069Z",
     "shell.execute_reply": "2023-11-18T12:00:55.599679Z"
    },
    "papermill": {
     "duration": 0.019834,
     "end_time": "2023-11-18T12:00:55.603557",
     "exception": false,
     "start_time": "2023-11-18T12:00:55.583723",
     "status": "completed"
    },
    "tags": []
   },
   "outputs": [],
   "source": [
    "# Uncomment and run the lines below if you need help.\n",
    "#q1.hint()\n",
    "#q1.solution()"
   ]
  },
  {
   "cell_type": "markdown",
   "id": "bc7efc03",
   "metadata": {
    "papermill": {
     "duration": 0.009863,
     "end_time": "2023-11-18T12:00:55.623643",
     "exception": false,
     "start_time": "2023-11-18T12:00:55.613780",
     "status": "completed"
    },
    "tags": []
   },
   "source": [
    "<hr/>\n",
    "\n",
    "# 2.\n",
    "\n",
    "Add code to the following cell to swap variables `a` and `b` (so that `a` refers to the object previously referred to by `b` and vice versa)."
   ]
  },
  {
   "cell_type": "code",
   "execution_count": 7,
   "id": "85d33a8d",
   "metadata": {
    "execution": {
     "iopub.execute_input": "2023-11-18T12:00:55.646386Z",
     "iopub.status.busy": "2023-11-18T12:00:55.645975Z",
     "iopub.status.idle": "2023-11-18T12:00:55.656657Z",
     "shell.execute_reply": "2023-11-18T12:00:55.655576Z"
    },
    "papermill": {
     "duration": 0.025229,
     "end_time": "2023-11-18T12:00:55.659190",
     "exception": false,
     "start_time": "2023-11-18T12:00:55.633961",
     "status": "completed"
    },
    "tags": []
   },
   "outputs": [
    {
     "data": {
      "application/javascript": [
       "parent.postMessage({\"jupyterEvent\": \"custom.exercise_interaction\", \"data\": {\"outcomeType\": 2, \"failureMessage\": \"`a` and `b` still have their original values.\", \"interactionType\": 1, \"questionType\": 2, \"questionId\": \"2_VariableSwap\", \"learnToolsVersion\": \"0.3.4\", \"valueTowardsCompletion\": 0.0, \"exceptionClass\": \"\", \"trace\": \"\"}}, \"*\")"
      ],
      "text/plain": [
       "<IPython.core.display.Javascript object>"
      ]
     },
     "metadata": {},
     "output_type": "display_data"
    },
    {
     "data": {
      "text/markdown": [
       "<span style=\"color:#cc3333\">Incorrect:</span> `a` and `b` still have their original values."
      ],
      "text/plain": [
       "Incorrect: `a` and `b` still have their original values."
      ]
     },
     "metadata": {},
     "output_type": "display_data"
    }
   ],
   "source": [
    "########### Setup code - don't touch this part ######################\n",
    "# If you're curious, these are examples of lists. We'll talk about \n",
    "# them in depth a few lessons from now. For now, just know that they're\n",
    "# yet another type of Python object, like int or float.\n",
    "a = [1, 2, 3]\n",
    "b = [3, 2, 1]\n",
    "q2.store_original_ids()\n",
    "######################################################################\n",
    "\n",
    "# Your code goes here. Swap the values to which a and b refer.\n",
    "# If you get stuck, you can always uncomment one or both of the lines in\n",
    "# the next cell for a hint, or to peek at the solution.\n",
    "\n",
    "######################################################################\n",
    "\n",
    "# Check your answer\n",
    "q2.check()"
   ]
  },
  {
   "cell_type": "code",
   "execution_count": 8,
   "id": "2d7d369c",
   "metadata": {
    "execution": {
     "iopub.execute_input": "2023-11-18T12:00:55.683051Z",
     "iopub.status.busy": "2023-11-18T12:00:55.681688Z",
     "iopub.status.idle": "2023-11-18T12:00:55.687228Z",
     "shell.execute_reply": "2023-11-18T12:00:55.686369Z"
    },
    "papermill": {
     "duration": 0.020252,
     "end_time": "2023-11-18T12:00:55.689649",
     "exception": false,
     "start_time": "2023-11-18T12:00:55.669397",
     "status": "completed"
    },
    "tags": []
   },
   "outputs": [],
   "source": [
    "#q2.hint()"
   ]
  },
  {
   "cell_type": "code",
   "execution_count": 9,
   "id": "d9fef634",
   "metadata": {
    "execution": {
     "iopub.execute_input": "2023-11-18T12:00:55.713882Z",
     "iopub.status.busy": "2023-11-18T12:00:55.712878Z",
     "iopub.status.idle": "2023-11-18T12:00:55.718084Z",
     "shell.execute_reply": "2023-11-18T12:00:55.716873Z"
    },
    "papermill": {
     "duration": 0.019812,
     "end_time": "2023-11-18T12:00:55.720700",
     "exception": false,
     "start_time": "2023-11-18T12:00:55.700888",
     "status": "completed"
    },
    "tags": []
   },
   "outputs": [],
   "source": [
    "#q2.solution()"
   ]
  },
  {
   "cell_type": "markdown",
   "id": "e986ef8d",
   "metadata": {
    "papermill": {
     "duration": 0.010584,
     "end_time": "2023-11-18T12:00:55.743084",
     "exception": false,
     "start_time": "2023-11-18T12:00:55.732500",
     "status": "completed"
    },
    "tags": []
   },
   "source": [
    "<hr/>\n",
    "\n",
    "# 3a.\n",
    "\n",
    "Add parentheses to the following expression so that it evaluates to 1."
   ]
  },
  {
   "cell_type": "code",
   "execution_count": 10,
   "id": "b2e86e53",
   "metadata": {
    "execution": {
     "iopub.execute_input": "2023-11-18T12:00:55.767601Z",
     "iopub.status.busy": "2023-11-18T12:00:55.766476Z",
     "iopub.status.idle": "2023-11-18T12:00:55.774288Z",
     "shell.execute_reply": "2023-11-18T12:00:55.773033Z"
    },
    "papermill": {
     "duration": 0.022845,
     "end_time": "2023-11-18T12:00:55.776770",
     "exception": false,
     "start_time": "2023-11-18T12:00:55.753925",
     "status": "completed"
    },
    "tags": []
   },
   "outputs": [
    {
     "data": {
      "text/plain": [
       "4"
      ]
     },
     "execution_count": 10,
     "metadata": {},
     "output_type": "execute_result"
    }
   ],
   "source": [
    "5 - 3 // 2"
   ]
  },
  {
   "cell_type": "code",
   "execution_count": 11,
   "id": "b15e165c",
   "metadata": {
    "execution": {
     "iopub.execute_input": "2023-11-18T12:00:55.801322Z",
     "iopub.status.busy": "2023-11-18T12:00:55.800182Z",
     "iopub.status.idle": "2023-11-18T12:00:55.808138Z",
     "shell.execute_reply": "2023-11-18T12:00:55.806815Z"
    },
    "papermill": {
     "duration": 0.022546,
     "end_time": "2023-11-18T12:00:55.810459",
     "exception": false,
     "start_time": "2023-11-18T12:00:55.787913",
     "status": "completed"
    },
    "tags": []
   },
   "outputs": [],
   "source": [
    "#q3.a.hint()"
   ]
  },
  {
   "cell_type": "code",
   "execution_count": 12,
   "id": "5bb5959c",
   "metadata": {
    "execution": {
     "iopub.execute_input": "2023-11-18T12:00:55.835570Z",
     "iopub.status.busy": "2023-11-18T12:00:55.834841Z",
     "iopub.status.idle": "2023-11-18T12:00:55.842283Z",
     "shell.execute_reply": "2023-11-18T12:00:55.841433Z"
    },
    "papermill": {
     "duration": 0.022534,
     "end_time": "2023-11-18T12:00:55.844499",
     "exception": false,
     "start_time": "2023-11-18T12:00:55.821965",
     "status": "completed"
    },
    "tags": []
   },
   "outputs": [
    {
     "data": {
      "application/javascript": [
       "parent.postMessage({\"jupyterEvent\": \"custom.exercise_interaction\", \"data\": {\"interactionType\": 3, \"questionType\": 4, \"questionId\": \"3.1_ArithmeticParensEasy\", \"learnToolsVersion\": \"0.3.4\", \"valueTowardsCompletion\": 0.0, \"failureMessage\": \"\", \"exceptionClass\": \"\", \"trace\": \"\", \"outcomeType\": 4}}, \"*\")"
      ],
      "text/plain": [
       "<IPython.core.display.Javascript object>"
      ]
     },
     "metadata": {},
     "output_type": "display_data"
    },
    {
     "data": {
      "text/markdown": [
       "<span style=\"color:#33cc99\">Solution:</span> \n",
       "```python\n",
       "(5 - 3) // 2\n",
       "```"
      ],
      "text/plain": [
       "Solution: \n",
       "```python\n",
       "(5 - 3) // 2\n",
       "```"
      ]
     },
     "metadata": {},
     "output_type": "display_data"
    }
   ],
   "source": [
    "# Check your answer (Run this code cell to receive credit!)\n",
    "q3.a.solution()"
   ]
  },
  {
   "cell_type": "markdown",
   "id": "26bdb20a",
   "metadata": {
    "papermill": {
     "duration": 0.012689,
     "end_time": "2023-11-18T12:00:55.869372",
     "exception": false,
     "start_time": "2023-11-18T12:00:55.856683",
     "status": "completed"
    },
    "tags": []
   },
   "source": [
    "# 3b.  <span title=\"A bit spicy\" style=\"color: darkgreen \">🌶️</span>\n",
    "\n",
    "<small>Questions, like this one, marked a spicy pepper are a bit harder.</small>\n",
    "\n",
    "Add parentheses to the following expression so that it evaluates to 0."
   ]
  },
  {
   "cell_type": "code",
   "execution_count": 13,
   "id": "f12a4d34",
   "metadata": {
    "execution": {
     "iopub.execute_input": "2023-11-18T12:00:55.895264Z",
     "iopub.status.busy": "2023-11-18T12:00:55.894503Z",
     "iopub.status.idle": "2023-11-18T12:00:55.900784Z",
     "shell.execute_reply": "2023-11-18T12:00:55.899671Z"
    },
    "papermill": {
     "duration": 0.022134,
     "end_time": "2023-11-18T12:00:55.903391",
     "exception": false,
     "start_time": "2023-11-18T12:00:55.881257",
     "status": "completed"
    },
    "tags": []
   },
   "outputs": [
    {
     "data": {
      "text/plain": [
       "2"
      ]
     },
     "execution_count": 13,
     "metadata": {},
     "output_type": "execute_result"
    }
   ],
   "source": [
    "8 - 3 * 2 - 1 + 1"
   ]
  },
  {
   "cell_type": "code",
   "execution_count": 14,
   "id": "f09741db",
   "metadata": {
    "execution": {
     "iopub.execute_input": "2023-11-18T12:00:55.929044Z",
     "iopub.status.busy": "2023-11-18T12:00:55.928385Z",
     "iopub.status.idle": "2023-11-18T12:00:55.933307Z",
     "shell.execute_reply": "2023-11-18T12:00:55.932272Z"
    },
    "papermill": {
     "duration": 0.020679,
     "end_time": "2023-11-18T12:00:55.935902",
     "exception": false,
     "start_time": "2023-11-18T12:00:55.915223",
     "status": "completed"
    },
    "tags": []
   },
   "outputs": [],
   "source": [
    "#q3.b.hint()"
   ]
  },
  {
   "cell_type": "code",
   "execution_count": 15,
   "id": "a1b9e640",
   "metadata": {
    "execution": {
     "iopub.execute_input": "2023-11-18T12:00:55.962494Z",
     "iopub.status.busy": "2023-11-18T12:00:55.961591Z",
     "iopub.status.idle": "2023-11-18T12:00:55.969236Z",
     "shell.execute_reply": "2023-11-18T12:00:55.968375Z"
    },
    "papermill": {
     "duration": 0.023459,
     "end_time": "2023-11-18T12:00:55.971351",
     "exception": false,
     "start_time": "2023-11-18T12:00:55.947892",
     "status": "completed"
    },
    "tags": []
   },
   "outputs": [
    {
     "data": {
      "application/javascript": [
       "parent.postMessage({\"jupyterEvent\": \"custom.exercise_interaction\", \"data\": {\"interactionType\": 3, \"questionType\": 4, \"questionId\": \"3.2_ArithmeticParensHard\", \"learnToolsVersion\": \"0.3.4\", \"valueTowardsCompletion\": 0.0, \"failureMessage\": \"\", \"exceptionClass\": \"\", \"trace\": \"\", \"outcomeType\": 4}}, \"*\")"
      ],
      "text/plain": [
       "<IPython.core.display.Javascript object>"
      ]
     },
     "metadata": {},
     "output_type": "display_data"
    },
    {
     "data": {
      "text/markdown": [
       "<span style=\"color:#33cc99\">Solution:</span> `(8 - 3) * (2 - (1 + 1))` is one solution. There may be others."
      ],
      "text/plain": [
       "Solution: `(8 - 3) * (2 - (1 + 1))` is one solution. There may be others."
      ]
     },
     "metadata": {},
     "output_type": "display_data"
    }
   ],
   "source": [
    "# Check your answer (Run this code cell to receive credit!)\n",
    "q3.b.solution()"
   ]
  },
  {
   "cell_type": "markdown",
   "id": "ac5917eb",
   "metadata": {
    "papermill": {
     "duration": 0.011914,
     "end_time": "2023-11-18T12:00:55.995409",
     "exception": false,
     "start_time": "2023-11-18T12:00:55.983495",
     "status": "completed"
    },
    "tags": []
   },
   "source": [
    "<hr/>\n",
    "\n",
    "# 4. \n",
    "Alice, Bob and Carol have agreed to pool their Halloween candy and split it evenly among themselves.\n",
    "For the sake of their friendship, any candies left over will be smashed. For example, if they collectively\n",
    "bring home 91 candies, they'll take 30 each and smash 1.\n",
    "\n",
    "Write an arithmetic expression below to calculate how many candies they must smash for a given haul."
   ]
  },
  {
   "cell_type": "code",
   "execution_count": 16,
   "id": "446e3618",
   "metadata": {
    "execution": {
     "iopub.execute_input": "2023-11-18T12:00:56.023054Z",
     "iopub.status.busy": "2023-11-18T12:00:56.022357Z",
     "iopub.status.idle": "2023-11-18T12:00:56.031907Z",
     "shell.execute_reply": "2023-11-18T12:00:56.030614Z"
    },
    "papermill": {
     "duration": 0.026685,
     "end_time": "2023-11-18T12:00:56.034771",
     "exception": false,
     "start_time": "2023-11-18T12:00:56.008086",
     "status": "completed"
    },
    "tags": []
   },
   "outputs": [
    {
     "data": {
      "application/javascript": [
       "parent.postMessage({\"jupyterEvent\": \"custom.exercise_interaction\", \"data\": {\"outcomeType\": 4, \"interactionType\": 1, \"questionType\": 1, \"questionId\": \"4_CandySplitting\", \"learnToolsVersion\": \"0.3.4\", \"valueTowardsCompletion\": 0.0, \"failureMessage\": \"\", \"exceptionClass\": \"\", \"trace\": \"\"}}, \"*\")"
      ],
      "text/plain": [
       "<IPython.core.display.Javascript object>"
      ]
     },
     "metadata": {},
     "output_type": "display_data"
    },
    {
     "data": {
      "text/markdown": [
       "<span style=\"color:#ccaa33\">Check:</span> When you've updated the starter code, `check()` will tell you whether your code is correct. You need to update the code that creates variable `to_smash`"
      ],
      "text/plain": [
       "Check: When you've updated the starter code, `check()` will tell you whether your code is correct. You need to update the code that creates variable `to_smash`"
      ]
     },
     "metadata": {},
     "output_type": "display_data"
    }
   ],
   "source": [
    "# Variables representing the number of candies collected by alice, bob, and carol\n",
    "alice_candies = 121\n",
    "bob_candies = 77\n",
    "carol_candies = 109\n",
    "\n",
    "# Your code goes here! Replace the right-hand side of this assignment with an expression\n",
    "# involving alice_candies, bob_candies, and carol_candies\n",
    "to_smash = -1\n",
    "\n",
    "# Check your answer\n",
    "q4.check()"
   ]
  },
  {
   "cell_type": "code",
   "execution_count": 17,
   "id": "4b3b78ef",
   "metadata": {
    "execution": {
     "iopub.execute_input": "2023-11-18T12:00:56.062514Z",
     "iopub.status.busy": "2023-11-18T12:00:56.061459Z",
     "iopub.status.idle": "2023-11-18T12:00:56.066147Z",
     "shell.execute_reply": "2023-11-18T12:00:56.065352Z"
    },
    "papermill": {
     "duration": 0.020883,
     "end_time": "2023-11-18T12:00:56.068253",
     "exception": false,
     "start_time": "2023-11-18T12:00:56.047370",
     "status": "completed"
    },
    "tags": []
   },
   "outputs": [],
   "source": [
    "#q4.hint()\n",
    "#q4.solution()"
   ]
  },
  {
   "cell_type": "markdown",
   "id": "e60c4a9a",
   "metadata": {
    "papermill": {
     "duration": 0.012395,
     "end_time": "2023-11-18T12:00:56.093355",
     "exception": false,
     "start_time": "2023-11-18T12:00:56.080960",
     "status": "completed"
    },
    "tags": []
   },
   "source": [
    "# Keep Going\n",
    "\n",
    "Next up, you'll **[learn to write new functions and understand functions others write](https://www.kaggle.com/colinmorris/functions-and-getting-help)**. This will make you at least 10 times more productive as a Python programmer. "
   ]
  },
  {
   "cell_type": "markdown",
   "id": "0297a1ae",
   "metadata": {
    "papermill": {
     "duration": 0.012727,
     "end_time": "2023-11-18T12:00:56.118630",
     "exception": false,
     "start_time": "2023-11-18T12:00:56.105903",
     "status": "completed"
    },
    "tags": []
   },
   "source": [
    "---\n",
    "\n",
    "\n",
    "\n",
    "\n",
    "*Have questions or comments? Visit the [course discussion forum](https://www.kaggle.com/learn/python/discussion) to chat with other learners.*"
   ]
  }
 ],
 "metadata": {
  "kaggle": {
   "accelerator": "none",
   "dataSources": [],
   "isGpuEnabled": false,
   "isInternetEnabled": false,
   "language": "python",
   "sourceType": "notebook"
  },
  "kernelspec": {
   "display_name": "Python 3",
   "language": "python",
   "name": "python3"
  },
  "language_info": {
   "codemirror_mode": {
    "name": "ipython",
    "version": 3
   },
   "file_extension": ".py",
   "mimetype": "text/x-python",
   "name": "python",
   "nbconvert_exporter": "python",
   "pygments_lexer": "ipython3",
   "version": "3.10.12"
  },
  "learntools_metadata": {
   "lesson_index": 0,
   "type": "exercise"
  },
  "papermill": {
   "default_parameters": {},
   "duration": 5.414796,
   "end_time": "2023-11-18T12:00:56.651674",
   "environment_variables": {},
   "exception": null,
   "input_path": "__notebook__.ipynb",
   "output_path": "__notebook__.ipynb",
   "parameters": {},
   "start_time": "2023-11-18T12:00:51.236878",
   "version": "2.4.0"
  }
 },
 "nbformat": 4,
 "nbformat_minor": 5
}
