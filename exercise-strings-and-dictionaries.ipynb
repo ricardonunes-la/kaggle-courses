{
 "cells": [
  {
   "cell_type": "markdown",
   "id": "0ff773d5",
   "metadata": {
    "papermill": {
     "duration": 0.009607,
     "end_time": "2023-12-04T15:07:01.499609",
     "exception": false,
     "start_time": "2023-12-04T15:07:01.490002",
     "status": "completed"
    },
    "tags": []
   },
   "source": [
    "**This notebook is an exercise in the [Python](https://www.kaggle.com/learn/python) course.  You can reference the tutorial at [this link](https://www.kaggle.com/colinmorris/strings-and-dictionaries).**\n",
    "\n",
    "---\n"
   ]
  },
  {
   "cell_type": "markdown",
   "id": "1602db20",
   "metadata": {
    "papermill": {
     "duration": 0.006918,
     "end_time": "2023-12-04T15:07:01.513944",
     "exception": false,
     "start_time": "2023-12-04T15:07:01.507026",
     "status": "completed"
    },
    "tags": []
   },
   "source": [
    "You are almost done with the course. Nice job!\n",
    "\n",
    "We have a couple more interesting problems for you before you go. \n",
    "\n",
    "As always, run the setup code below before working on the questions."
   ]
  },
  {
   "cell_type": "code",
   "execution_count": 1,
   "id": "ae8f5af9",
   "metadata": {
    "execution": {
     "iopub.execute_input": "2023-12-04T15:07:01.530873Z",
     "iopub.status.busy": "2023-12-04T15:07:01.530428Z",
     "iopub.status.idle": "2023-12-04T15:07:02.027126Z",
     "shell.execute_reply": "2023-12-04T15:07:02.026165Z"
    },
    "papermill": {
     "duration": 0.508351,
     "end_time": "2023-12-04T15:07:02.029694",
     "exception": false,
     "start_time": "2023-12-04T15:07:01.521343",
     "status": "completed"
    },
    "tags": []
   },
   "outputs": [
    {
     "name": "stdout",
     "output_type": "stream",
     "text": [
      "Setup complete.\n"
     ]
    }
   ],
   "source": [
    "from learntools.core import binder; binder.bind(globals())\n",
    "from learntools.python.ex6 import *\n",
    "print('Setup complete.')"
   ]
  },
  {
   "cell_type": "markdown",
   "id": "2af84337",
   "metadata": {
    "papermill": {
     "duration": 0.007875,
     "end_time": "2023-12-04T15:07:02.045238",
     "exception": false,
     "start_time": "2023-12-04T15:07:02.037363",
     "status": "completed"
    },
    "tags": []
   },
   "source": [
    "Let's start with a string lightning round to warm up. What are the lengths of the strings below?\n",
    "\n",
    "For each of the five strings below, predict what `len()` would return when passed that string. Use the variable `length` to record your answer, then run the cell to check whether you were right.  \n",
    "\n",
    "# 0a."
   ]
  },
  {
   "cell_type": "code",
   "execution_count": 2,
   "id": "509da747",
   "metadata": {
    "execution": {
     "iopub.execute_input": "2023-12-04T15:07:02.063108Z",
     "iopub.status.busy": "2023-12-04T15:07:02.061846Z",
     "iopub.status.idle": "2023-12-04T15:07:02.073307Z",
     "shell.execute_reply": "2023-12-04T15:07:02.072199Z"
    },
    "papermill": {
     "duration": 0.023549,
     "end_time": "2023-12-04T15:07:02.076422",
     "exception": false,
     "start_time": "2023-12-04T15:07:02.052873",
     "status": "completed"
    },
    "tags": []
   },
   "outputs": [
    {
     "data": {
      "application/javascript": [
       "parent.postMessage({\"jupyterEvent\": \"custom.exercise_interaction\", \"data\": {\"outcomeType\": 1, \"valueTowardsCompletion\": 0.3333333333333333, \"interactionType\": 1, \"questionType\": 1, \"questionId\": \"0.1_ZA\", \"learnToolsVersion\": \"0.3.4\", \"failureMessage\": \"\", \"exceptionClass\": \"\", \"trace\": \"\"}}, \"*\")"
      ],
      "text/plain": [
       "<IPython.core.display.Javascript object>"
      ]
     },
     "metadata": {},
     "output_type": "display_data"
    },
    {
     "data": {
      "text/markdown": [
       "<span style=\"color:#33cc33\">Correct:</span> \n",
       "\n",
       "The empty string has length zero. Note that the empty string is also the only string that Python considers as False when converting to boolean."
      ],
      "text/plain": [
       "Correct: \n",
       "\n",
       "The empty string has length zero. Note that the empty string is also the only string that Python considers as False when converting to boolean."
      ]
     },
     "metadata": {},
     "output_type": "display_data"
    }
   ],
   "source": [
    "a = \"\"\n",
    "length = len(a)\n",
    "q0.a.check()"
   ]
  },
  {
   "cell_type": "markdown",
   "id": "bd33529d",
   "metadata": {
    "papermill": {
     "duration": 0.007507,
     "end_time": "2023-12-04T15:07:02.091999",
     "exception": false,
     "start_time": "2023-12-04T15:07:02.084492",
     "status": "completed"
    },
    "tags": []
   },
   "source": [
    "# 0b."
   ]
  },
  {
   "cell_type": "code",
   "execution_count": 3,
   "id": "4bd31151",
   "metadata": {
    "execution": {
     "iopub.execute_input": "2023-12-04T15:07:02.109433Z",
     "iopub.status.busy": "2023-12-04T15:07:02.109056Z",
     "iopub.status.idle": "2023-12-04T15:07:02.118629Z",
     "shell.execute_reply": "2023-12-04T15:07:02.117424Z"
    },
    "papermill": {
     "duration": 0.021407,
     "end_time": "2023-12-04T15:07:02.121209",
     "exception": false,
     "start_time": "2023-12-04T15:07:02.099802",
     "status": "completed"
    },
    "tags": []
   },
   "outputs": [
    {
     "data": {
      "application/javascript": [
       "parent.postMessage({\"jupyterEvent\": \"custom.exercise_interaction\", \"data\": {\"outcomeType\": 1, \"valueTowardsCompletion\": 0.3333333333333333, \"interactionType\": 1, \"questionType\": 1, \"questionId\": \"0.2_ZB\", \"learnToolsVersion\": \"0.3.4\", \"failureMessage\": \"\", \"exceptionClass\": \"\", \"trace\": \"\"}}, \"*\")"
      ],
      "text/plain": [
       "<IPython.core.display.Javascript object>"
      ]
     },
     "metadata": {},
     "output_type": "display_data"
    },
    {
     "data": {
      "text/markdown": [
       "<span style=\"color:#33cc33\">Correct:</span> \n",
       "\n",
       "Keep in mind Python includes spaces (and punctuation) when counting string length."
      ],
      "text/plain": [
       "Correct: \n",
       "\n",
       "Keep in mind Python includes spaces (and punctuation) when counting string length."
      ]
     },
     "metadata": {},
     "output_type": "display_data"
    }
   ],
   "source": [
    "b = \"it's ok\"\n",
    "length = len(b)\n",
    "q0.b.check()"
   ]
  },
  {
   "cell_type": "markdown",
   "id": "12a77636",
   "metadata": {
    "papermill": {
     "duration": 0.007941,
     "end_time": "2023-12-04T15:07:02.137658",
     "exception": false,
     "start_time": "2023-12-04T15:07:02.129717",
     "status": "completed"
    },
    "tags": []
   },
   "source": [
    "# 0c."
   ]
  },
  {
   "cell_type": "code",
   "execution_count": 4,
   "id": "de29893b",
   "metadata": {
    "execution": {
     "iopub.execute_input": "2023-12-04T15:07:02.156525Z",
     "iopub.status.busy": "2023-12-04T15:07:02.155877Z",
     "iopub.status.idle": "2023-12-04T15:07:02.165806Z",
     "shell.execute_reply": "2023-12-04T15:07:02.164598Z"
    },
    "papermill": {
     "duration": 0.022511,
     "end_time": "2023-12-04T15:07:02.168493",
     "exception": false,
     "start_time": "2023-12-04T15:07:02.145982",
     "status": "completed"
    },
    "tags": []
   },
   "outputs": [
    {
     "data": {
      "application/javascript": [
       "parent.postMessage({\"jupyterEvent\": \"custom.exercise_interaction\", \"data\": {\"outcomeType\": 1, \"valueTowardsCompletion\": 0.3333333333333333, \"interactionType\": 1, \"questionType\": 1, \"questionId\": \"0.3_ZC\", \"learnToolsVersion\": \"0.3.4\", \"failureMessage\": \"\", \"exceptionClass\": \"\", \"trace\": \"\"}}, \"*\")"
      ],
      "text/plain": [
       "<IPython.core.display.Javascript object>"
      ]
     },
     "metadata": {},
     "output_type": "display_data"
    },
    {
     "data": {
      "text/markdown": [
       "<span style=\"color:#33cc33\">Correct:</span> \n",
       "\n",
       "Even though we use different syntax to create it, the string `c` is identical to `b`. In particular, note that the backslash is not part of the string, so it doesn't contribute to its length."
      ],
      "text/plain": [
       "Correct: \n",
       "\n",
       "Even though we use different syntax to create it, the string `c` is identical to `b`. In particular, note that the backslash is not part of the string, so it doesn't contribute to its length."
      ]
     },
     "metadata": {},
     "output_type": "display_data"
    }
   ],
   "source": [
    "c = 'it\\'s ok'\n",
    "length = len(c)\n",
    "q0.c.check()"
   ]
  },
  {
   "cell_type": "markdown",
   "id": "600988a9",
   "metadata": {
    "papermill": {
     "duration": 0.008878,
     "end_time": "2023-12-04T15:07:02.186100",
     "exception": false,
     "start_time": "2023-12-04T15:07:02.177222",
     "status": "completed"
    },
    "tags": []
   },
   "source": [
    "# 0d."
   ]
  },
  {
   "cell_type": "code",
   "execution_count": 5,
   "id": "a70744e1",
   "metadata": {
    "execution": {
     "iopub.execute_input": "2023-12-04T15:07:02.205753Z",
     "iopub.status.busy": "2023-12-04T15:07:02.205006Z",
     "iopub.status.idle": "2023-12-04T15:07:02.214942Z",
     "shell.execute_reply": "2023-12-04T15:07:02.213827Z"
    },
    "papermill": {
     "duration": 0.022175,
     "end_time": "2023-12-04T15:07:02.217194",
     "exception": false,
     "start_time": "2023-12-04T15:07:02.195019",
     "status": "completed"
    },
    "tags": []
   },
   "outputs": [
    {
     "data": {
      "application/javascript": [
       "parent.postMessage({\"jupyterEvent\": \"custom.exercise_interaction\", \"data\": {\"outcomeType\": 1, \"valueTowardsCompletion\": 0.3333333333333333, \"interactionType\": 1, \"questionType\": 1, \"questionId\": \"0.4_ZD\", \"learnToolsVersion\": \"0.3.4\", \"failureMessage\": \"\", \"exceptionClass\": \"\", \"trace\": \"\"}}, \"*\")"
      ],
      "text/plain": [
       "<IPython.core.display.Javascript object>"
      ]
     },
     "metadata": {},
     "output_type": "display_data"
    },
    {
     "data": {
      "text/markdown": [
       "<span style=\"color:#33cc33\">Correct:</span> \n",
       "\n",
       "The fact that this string was created using triple-quote syntax doesn't make any difference in terms of its content or length. This string is exactly the same as `'hey'`."
      ],
      "text/plain": [
       "Correct: \n",
       "\n",
       "The fact that this string was created using triple-quote syntax doesn't make any difference in terms of its content or length. This string is exactly the same as `'hey'`."
      ]
     },
     "metadata": {},
     "output_type": "display_data"
    }
   ],
   "source": [
    "d = \"\"\"hey\"\"\"\n",
    "length = len(d)\n",
    "q0.d.check()"
   ]
  },
  {
   "cell_type": "markdown",
   "id": "55efe13b",
   "metadata": {
    "papermill": {
     "duration": 0.008709,
     "end_time": "2023-12-04T15:07:02.234832",
     "exception": false,
     "start_time": "2023-12-04T15:07:02.226123",
     "status": "completed"
    },
    "tags": []
   },
   "source": [
    "# 0e."
   ]
  },
  {
   "cell_type": "code",
   "execution_count": 6,
   "id": "45fb5aa6",
   "metadata": {
    "execution": {
     "iopub.execute_input": "2023-12-04T15:07:02.254463Z",
     "iopub.status.busy": "2023-12-04T15:07:02.254034Z",
     "iopub.status.idle": "2023-12-04T15:07:02.261813Z",
     "shell.execute_reply": "2023-12-04T15:07:02.260936Z"
    },
    "papermill": {
     "duration": 0.02061,
     "end_time": "2023-12-04T15:07:02.264297",
     "exception": false,
     "start_time": "2023-12-04T15:07:02.243687",
     "status": "completed"
    },
    "tags": []
   },
   "outputs": [
    {
     "data": {
      "application/javascript": [
       "parent.postMessage({\"jupyterEvent\": \"custom.exercise_interaction\", \"data\": {\"outcomeType\": 1, \"valueTowardsCompletion\": 0.3333333333333333, \"interactionType\": 1, \"questionType\": 1, \"questionId\": \"0.5_ZE\", \"learnToolsVersion\": \"0.3.4\", \"failureMessage\": \"\", \"exceptionClass\": \"\", \"trace\": \"\"}}, \"*\")"
      ],
      "text/plain": [
       "<IPython.core.display.Javascript object>"
      ]
     },
     "metadata": {},
     "output_type": "display_data"
    },
    {
     "data": {
      "text/markdown": [
       "<span style=\"color:#33cc33\">Correct:</span> \n",
       "\n",
       "The newline character is just a single character! (Even though we represent it to Python using a combination of two characters.)"
      ],
      "text/plain": [
       "Correct: \n",
       "\n",
       "The newline character is just a single character! (Even though we represent it to Python using a combination of two characters.)"
      ]
     },
     "metadata": {},
     "output_type": "display_data"
    }
   ],
   "source": [
    "e = '\\n'\n",
    "length = len(e)\n",
    "q0.e.check()"
   ]
  },
  {
   "cell_type": "markdown",
   "id": "f6de8565",
   "metadata": {
    "papermill": {
     "duration": 0.009115,
     "end_time": "2023-12-04T15:07:02.282734",
     "exception": false,
     "start_time": "2023-12-04T15:07:02.273619",
     "status": "completed"
    },
    "tags": []
   },
   "source": [
    "# 1.\n",
    "\n",
    "There is a saying that \"Data scientists spend 80% of their time cleaning data, and 20% of their time complaining about cleaning data.\" Let's see if you can write a function to help clean US zip code data. Given a string, it should return whether or not that string represents a valid zip code. For our purposes, a valid zip code is any string consisting of exactly 5 digits.\n",
    "\n",
    "HINT: `str` has a method that will be useful here. Use `help(str)` to review a list of string methods."
   ]
  },
  {
   "cell_type": "code",
   "execution_count": 7,
   "id": "34928712",
   "metadata": {
    "execution": {
     "iopub.execute_input": "2023-12-04T15:07:02.303311Z",
     "iopub.status.busy": "2023-12-04T15:07:02.302915Z",
     "iopub.status.idle": "2023-12-04T15:07:02.313880Z",
     "shell.execute_reply": "2023-12-04T15:07:02.312626Z"
    },
    "papermill": {
     "duration": 0.02415,
     "end_time": "2023-12-04T15:07:02.316319",
     "exception": false,
     "start_time": "2023-12-04T15:07:02.292169",
     "status": "completed"
    },
    "tags": []
   },
   "outputs": [
    {
     "data": {
      "application/javascript": [
       "parent.postMessage({\"jupyterEvent\": \"custom.exercise_interaction\", \"data\": {\"outcomeType\": 1, \"valueTowardsCompletion\": 0.3333333333333333, \"interactionType\": 1, \"questionType\": 2, \"questionId\": \"1_ZipValidator\", \"learnToolsVersion\": \"0.3.4\", \"failureMessage\": \"\", \"exceptionClass\": \"\", \"trace\": \"\"}}, \"*\")"
      ],
      "text/plain": [
       "<IPython.core.display.Javascript object>"
      ]
     },
     "metadata": {},
     "output_type": "display_data"
    },
    {
     "data": {
      "text/markdown": [
       "<span style=\"color:#33cc33\">Correct</span>"
      ],
      "text/plain": [
       "Correct"
      ]
     },
     "metadata": {},
     "output_type": "display_data"
    }
   ],
   "source": [
    "def is_valid_zip(zip_code):\n",
    "    \"\"\"Returns whether the input string is a valid (5 digit) zip code\n",
    "    \"\"\"\n",
    "    return len(zip_code) == 5 and zip_code.isdigit()\n",
    "    \n",
    "# Check your answer\n",
    "q1.check()"
   ]
  },
  {
   "cell_type": "code",
   "execution_count": 8,
   "id": "19dcae73",
   "metadata": {
    "execution": {
     "iopub.execute_input": "2023-12-04T15:07:02.338298Z",
     "iopub.status.busy": "2023-12-04T15:07:02.337054Z",
     "iopub.status.idle": "2023-12-04T15:07:02.350027Z",
     "shell.execute_reply": "2023-12-04T15:07:02.348892Z"
    },
    "papermill": {
     "duration": 0.026303,
     "end_time": "2023-12-04T15:07:02.352405",
     "exception": false,
     "start_time": "2023-12-04T15:07:02.326102",
     "status": "completed"
    },
    "tags": []
   },
   "outputs": [
    {
     "data": {
      "application/javascript": [
       "parent.postMessage({\"jupyterEvent\": \"custom.exercise_interaction\", \"data\": {\"interactionType\": 2, \"questionType\": 2, \"questionId\": \"1_ZipValidator\", \"learnToolsVersion\": \"0.3.4\", \"valueTowardsCompletion\": 0.0, \"failureMessage\": \"\", \"exceptionClass\": \"\", \"trace\": \"\", \"outcomeType\": 4}}, \"*\")"
      ],
      "text/plain": [
       "<IPython.core.display.Javascript object>"
      ]
     },
     "metadata": {},
     "output_type": "display_data"
    },
    {
     "data": {
      "text/markdown": [
       "<span style=\"color:#3366cc\">Hint:</span> Try looking up `help(str.isdigit)`"
      ],
      "text/plain": [
       "Hint: Try looking up `help(str.isdigit)`"
      ]
     },
     "metadata": {},
     "output_type": "display_data"
    },
    {
     "data": {
      "application/javascript": [
       "parent.postMessage({\"jupyterEvent\": \"custom.exercise_interaction\", \"data\": {\"interactionType\": 3, \"questionType\": 2, \"questionId\": \"1_ZipValidator\", \"learnToolsVersion\": \"0.3.4\", \"valueTowardsCompletion\": 0.0, \"failureMessage\": \"\", \"exceptionClass\": \"\", \"trace\": \"\", \"outcomeType\": 4}}, \"*\")"
      ],
      "text/plain": [
       "<IPython.core.display.Javascript object>"
      ]
     },
     "metadata": {},
     "output_type": "display_data"
    },
    {
     "data": {
      "text/markdown": [
       "<span style=\"color:#33cc99\">Solution:</span> \n",
       "```python\n",
       "def is_valid_zip(zip_code):\n",
       "    return len(zip_code) == 5 and zip_code.isdigit()\n",
       "```"
      ],
      "text/plain": [
       "Solution: \n",
       "```python\n",
       "def is_valid_zip(zip_code):\n",
       "    return len(zip_code) == 5 and zip_code.isdigit()\n",
       "```"
      ]
     },
     "metadata": {},
     "output_type": "display_data"
    }
   ],
   "source": [
    "q1.hint()\n",
    "q1.solution()"
   ]
  },
  {
   "cell_type": "markdown",
   "id": "a3b7aeef",
   "metadata": {
    "papermill": {
     "duration": 0.009721,
     "end_time": "2023-12-04T15:07:02.372224",
     "exception": false,
     "start_time": "2023-12-04T15:07:02.362503",
     "status": "completed"
    },
    "tags": []
   },
   "source": [
    "# 2.\n",
    "\n",
    "A researcher has gathered thousands of news articles. But she wants to focus her attention on articles including a specific word. Complete the function below to help her filter her list of articles.\n",
    "\n",
    "Your function should meet the following criteria:\n",
    "\n",
    "- Do not include documents where the keyword string shows up only as a part of a larger word. For example, if she were looking for the keyword “closed”, you would not include the string “enclosed.” \n",
    "- She does not want you to distinguish upper case from lower case letters. So the phrase “Closed the case.” would be included when the keyword is “closed”\n",
    "- Do not let periods or commas affect what is matched. “It is closed.” would be included when the keyword is “closed”. But you can assume there are no other types of punctuation."
   ]
  },
  {
   "cell_type": "code",
   "execution_count": 9,
   "id": "9c1f8f66",
   "metadata": {
    "execution": {
     "iopub.execute_input": "2023-12-04T15:07:02.394076Z",
     "iopub.status.busy": "2023-12-04T15:07:02.393683Z",
     "iopub.status.idle": "2023-12-04T15:07:02.406833Z",
     "shell.execute_reply": "2023-12-04T15:07:02.405781Z"
    },
    "papermill": {
     "duration": 0.027256,
     "end_time": "2023-12-04T15:07:02.409542",
     "exception": false,
     "start_time": "2023-12-04T15:07:02.382286",
     "status": "completed"
    },
    "tags": []
   },
   "outputs": [
    {
     "data": {
      "application/javascript": [
       "parent.postMessage({\"jupyterEvent\": \"custom.exercise_interaction\", \"data\": {\"outcomeType\": 3, \"exceptionClass\": \"NameError\", \"trace\": \"  File \\\"/opt/conda/lib/python3.10/site-packages/learntools/core/problem.py\\\", line 239, in check\\n    actual = fn(*args)\\n\\n  File \\\"/tmp/ipykernel_19/3327646872.py\\\", line 17, in word_search\\n    indices.append(i)\\n\", \"failureMessage\": \"When calling your function with arguments `[['The Learn Python Challenge Casino', 'They bought a car, and a horse', 'Casinoville?'], 'casino']`, Python raised the following exception... **`NameError: name 'i' is not defined`**\", \"interactionType\": 1, \"questionType\": 2, \"questionId\": \"2_WordSearch\", \"learnToolsVersion\": \"0.3.4\", \"valueTowardsCompletion\": 0.0}}, \"*\")"
      ],
      "text/plain": [
       "<IPython.core.display.Javascript object>"
      ]
     },
     "metadata": {},
     "output_type": "display_data"
    },
    {
     "data": {
      "text/markdown": [
       "<span style=\"color:#cc3333\">Incorrect:</span> When calling your function with arguments `[['The Learn Python Challenge Casino', 'They bought a car, and a horse', 'Casinoville?'], 'casino']`, Python raised the following exception... **`NameError: name 'i' is not defined`**"
      ],
      "text/plain": [
       "Incorrect: When calling your function with arguments `[['The Learn Python Challenge Casino', 'They bought a car, and a horse', 'Casinoville?'], 'casino']`, Python raised the following exception... **`NameError: name 'i' is not defined`**"
      ]
     },
     "metadata": {},
     "output_type": "display_data"
    }
   ],
   "source": [
    "def word_search(doc_list, keyword):\n",
    "    \"\"\"\n",
    "    Takes a list of documents (each document is a string) and a keyword. \n",
    "    Returns list of the index values into the original list for all documents \n",
    "    containing the keyword.\n",
    "\n",
    "    Example:\n",
    "    doc_list = [\"The Learn Python Challenge Casino.\", \"They bought a car\", \"Casinoville\"]\n",
    "    >>> word_search(doc_list, 'casino')\n",
    "    >>> [0]\n",
    "    \"\"\"\n",
    "    indices = []\n",
    "    for k, doc in enumerate (doc_list):\n",
    "        tokens = doc.split()\n",
    "        normalized=[token.rstrip('.,').lower()for token in tokens]\n",
    "        if keyword.lower() in normalized:\n",
    "            indices.append(i)\n",
    "    return indices\n",
    "\n",
    "# Check your answer\n",
    "q2.check()"
   ]
  },
  {
   "cell_type": "code",
   "execution_count": 10,
   "id": "c0cee1fe",
   "metadata": {
    "execution": {
     "iopub.execute_input": "2023-12-04T15:07:02.432445Z",
     "iopub.status.busy": "2023-12-04T15:07:02.432024Z",
     "iopub.status.idle": "2023-12-04T15:07:02.443124Z",
     "shell.execute_reply": "2023-12-04T15:07:02.441862Z"
    },
    "papermill": {
     "duration": 0.025499,
     "end_time": "2023-12-04T15:07:02.445618",
     "exception": false,
     "start_time": "2023-12-04T15:07:02.420119",
     "status": "completed"
    },
    "tags": []
   },
   "outputs": [
    {
     "data": {
      "application/javascript": [
       "parent.postMessage({\"jupyterEvent\": \"custom.exercise_interaction\", \"data\": {\"interactionType\": 2, \"questionType\": 2, \"questionId\": \"2_WordSearch\", \"learnToolsVersion\": \"0.3.4\", \"valueTowardsCompletion\": 0.0, \"failureMessage\": \"\", \"exceptionClass\": \"\", \"trace\": \"\", \"outcomeType\": 4}}, \"*\")"
      ],
      "text/plain": [
       "<IPython.core.display.Javascript object>"
      ]
     },
     "metadata": {},
     "output_type": "display_data"
    },
    {
     "data": {
      "text/markdown": [
       "<span style=\"color:#3366cc\">Hint:</span> Some methods that may be useful here: `str.split()`, `str.strip()`, `str.lower()`."
      ],
      "text/plain": [
       "Hint: Some methods that may be useful here: `str.split()`, `str.strip()`, `str.lower()`."
      ]
     },
     "metadata": {},
     "output_type": "display_data"
    },
    {
     "data": {
      "application/javascript": [
       "parent.postMessage({\"jupyterEvent\": \"custom.exercise_interaction\", \"data\": {\"interactionType\": 3, \"questionType\": 2, \"questionId\": \"2_WordSearch\", \"learnToolsVersion\": \"0.3.4\", \"valueTowardsCompletion\": 0.0, \"failureMessage\": \"\", \"exceptionClass\": \"\", \"trace\": \"\", \"outcomeType\": 4}}, \"*\")"
      ],
      "text/plain": [
       "<IPython.core.display.Javascript object>"
      ]
     },
     "metadata": {},
     "output_type": "display_data"
    },
    {
     "data": {
      "text/markdown": [
       "<span style=\"color:#33cc99\">Solution:</span> \n",
       "```python\n",
       "def word_search(doc_list, keyword):\n",
       "    # list to hold the indices of matching documents\n",
       "    indices = [] \n",
       "    # Iterate through the indices (i) and elements (doc) of documents\n",
       "    for i, doc in enumerate(doc_list):\n",
       "        # Split the string doc into a list of words (according to whitespace)\n",
       "        tokens = doc.split()\n",
       "        # Make a transformed list where we 'normalize' each word to facilitate matching.\n",
       "        # Periods and commas are removed from the end of each word, and it's set to all lowercase.\n",
       "        normalized = [token.rstrip('.,').lower() for token in tokens]\n",
       "        # Is there a match? If so, update the list of matching indices.\n",
       "        if keyword.lower() in normalized:\n",
       "            indices.append(i)\n",
       "    return indices\n",
       "```"
      ],
      "text/plain": [
       "Solution: \n",
       "```python\n",
       "def word_search(doc_list, keyword):\n",
       "    # list to hold the indices of matching documents\n",
       "    indices = [] \n",
       "    # Iterate through the indices (i) and elements (doc) of documents\n",
       "    for i, doc in enumerate(doc_list):\n",
       "        # Split the string doc into a list of words (according to whitespace)\n",
       "        tokens = doc.split()\n",
       "        # Make a transformed list where we 'normalize' each word to facilitate matching.\n",
       "        # Periods and commas are removed from the end of each word, and it's set to all lowercase.\n",
       "        normalized = [token.rstrip('.,').lower() for token in tokens]\n",
       "        # Is there a match? If so, update the list of matching indices.\n",
       "        if keyword.lower() in normalized:\n",
       "            indices.append(i)\n",
       "    return indices\n",
       "```"
      ]
     },
     "metadata": {},
     "output_type": "display_data"
    }
   ],
   "source": [
    "q2.hint()\n",
    "q2.solution()"
   ]
  },
  {
   "cell_type": "markdown",
   "id": "c43a7827",
   "metadata": {
    "papermill": {
     "duration": 0.011039,
     "end_time": "2023-12-04T15:07:02.468011",
     "exception": false,
     "start_time": "2023-12-04T15:07:02.456972",
     "status": "completed"
    },
    "tags": []
   },
   "source": [
    "# 3.\n",
    "\n",
    "Now the researcher wants to supply multiple keywords to search for. Complete the function below to help her.\n",
    "\n",
    "(You're encouraged to use the `word_search` function you just wrote when implementing this function. Reusing code in this way makes your programs more robust and readable - and it saves typing!)"
   ]
  },
  {
   "cell_type": "code",
   "execution_count": 11,
   "id": "db0327b0",
   "metadata": {
    "execution": {
     "iopub.execute_input": "2023-12-04T15:07:02.493153Z",
     "iopub.status.busy": "2023-12-04T15:07:02.492358Z",
     "iopub.status.idle": "2023-12-04T15:07:02.503806Z",
     "shell.execute_reply": "2023-12-04T15:07:02.502648Z"
    },
    "papermill": {
     "duration": 0.026946,
     "end_time": "2023-12-04T15:07:02.506202",
     "exception": false,
     "start_time": "2023-12-04T15:07:02.479256",
     "status": "completed"
    },
    "tags": []
   },
   "outputs": [
    {
     "data": {
      "application/javascript": [
       "parent.postMessage({\"jupyterEvent\": \"custom.exercise_interaction\", \"data\": {\"outcomeType\": 3, \"exceptionClass\": \"NameError\", \"trace\": \"  File \\\"/opt/conda/lib/python3.10/site-packages/learntools/core/problem.py\\\", line 239, in check\\n    actual = fn(*args)\\n\\n  File \\\"/tmp/ipykernel_19/2827287640.py\\\", line 14, in multi_word_search\\n    dictionary[keyword]=word_search(doc_list,keyword)\\n\\n  File \\\"/tmp/ipykernel_19/3327646872.py\\\", line 17, in word_search\\n    indices.append(i)\\n\", \"failureMessage\": \"When calling your function with arguments `[['The Learn Python Challenge Casino', 'They bought a car', 'Casinoville?'], ['casino']]`, Python raised the following exception... **`NameError: name 'i' is not defined`**\", \"interactionType\": 1, \"questionType\": 2, \"questionId\": \"3_MultiWordSearch\", \"learnToolsVersion\": \"0.3.4\", \"valueTowardsCompletion\": 0.0}}, \"*\")"
      ],
      "text/plain": [
       "<IPython.core.display.Javascript object>"
      ]
     },
     "metadata": {},
     "output_type": "display_data"
    },
    {
     "data": {
      "text/markdown": [
       "<span style=\"color:#cc3333\">Incorrect:</span> When calling your function with arguments `[['The Learn Python Challenge Casino', 'They bought a car', 'Casinoville?'], ['casino']]`, Python raised the following exception... **`NameError: name 'i' is not defined`**"
      ],
      "text/plain": [
       "Incorrect: When calling your function with arguments `[['The Learn Python Challenge Casino', 'They bought a car', 'Casinoville?'], ['casino']]`, Python raised the following exception... **`NameError: name 'i' is not defined`**"
      ]
     },
     "metadata": {},
     "output_type": "display_data"
    }
   ],
   "source": [
    "def multi_word_search(doc_list, keywords):\n",
    "    \"\"\"\n",
    "    Takes list of documents (each document is a string) and a list of keywords.  \n",
    "    Returns a dictionary where each key is a keyword, and the value is a list of indices\n",
    "    (from doc_list) of the documents containing that keyword\n",
    "\n",
    "    >>> doc_list = [\"The Learn Python Challenge Casino.\", \"They bought a car and a casino\", \"Casinoville\"]\n",
    "    >>> keywords = ['casino', 'they']\n",
    "    >>> multi_word_search(doc_list, keywords)\n",
    "    {'casino': [0, 1], 'they': [1]}\n",
    "    \"\"\"\n",
    "    dictionary = {}\n",
    "    for keyword in keywords:\n",
    "        dictionary[keyword]=word_search(doc_list,keyword)\n",
    "    return dictionary\n",
    "\n",
    "# Check your answer\n",
    "q3.check()"
   ]
  },
  {
   "cell_type": "code",
   "execution_count": 12,
   "id": "d29342d2",
   "metadata": {
    "execution": {
     "iopub.execute_input": "2023-12-04T15:07:02.532274Z",
     "iopub.status.busy": "2023-12-04T15:07:02.531471Z",
     "iopub.status.idle": "2023-12-04T15:07:02.540607Z",
     "shell.execute_reply": "2023-12-04T15:07:02.539475Z"
    },
    "papermill": {
     "duration": 0.024377,
     "end_time": "2023-12-04T15:07:02.542812",
     "exception": false,
     "start_time": "2023-12-04T15:07:02.518435",
     "status": "completed"
    },
    "tags": []
   },
   "outputs": [
    {
     "data": {
      "application/javascript": [
       "parent.postMessage({\"jupyterEvent\": \"custom.exercise_interaction\", \"data\": {\"interactionType\": 3, \"questionType\": 2, \"questionId\": \"3_MultiWordSearch\", \"learnToolsVersion\": \"0.3.4\", \"valueTowardsCompletion\": 0.0, \"failureMessage\": \"\", \"exceptionClass\": \"\", \"trace\": \"\", \"outcomeType\": 4}}, \"*\")"
      ],
      "text/plain": [
       "<IPython.core.display.Javascript object>"
      ]
     },
     "metadata": {},
     "output_type": "display_data"
    },
    {
     "data": {
      "text/markdown": [
       "<span style=\"color:#33cc99\">Solution:</span> \n",
       "```python\n",
       "def multi_word_search(documents, keywords):\n",
       "    keyword_to_indices = {}\n",
       "    for keyword in keywords:\n",
       "        keyword_to_indices[keyword] = word_search(documents, keyword)\n",
       "    return keyword_to_indices\n",
       "```"
      ],
      "text/plain": [
       "Solution: \n",
       "```python\n",
       "def multi_word_search(documents, keywords):\n",
       "    keyword_to_indices = {}\n",
       "    for keyword in keywords:\n",
       "        keyword_to_indices[keyword] = word_search(documents, keyword)\n",
       "    return keyword_to_indices\n",
       "```"
      ]
     },
     "metadata": {},
     "output_type": "display_data"
    }
   ],
   "source": [
    "q3.solution()"
   ]
  },
  {
   "cell_type": "markdown",
   "id": "ccede19d",
   "metadata": {
    "papermill": {
     "duration": 0.012097,
     "end_time": "2023-12-04T15:07:02.567032",
     "exception": false,
     "start_time": "2023-12-04T15:07:02.554935",
     "status": "completed"
    },
    "tags": []
   },
   "source": [
    "# Keep Going\n",
    "\n",
    "You've learned a lot. But even the best programmers rely heavily on \"libraries\" of code from other programmers. You'll learn about that in **[the last lesson](https://www.kaggle.com/colinmorris/working-with-external-libraries)**.\n"
   ]
  },
  {
   "cell_type": "markdown",
   "id": "1ee342f5",
   "metadata": {
    "papermill": {
     "duration": 0.013476,
     "end_time": "2023-12-04T15:07:02.592717",
     "exception": false,
     "start_time": "2023-12-04T15:07:02.579241",
     "status": "completed"
    },
    "tags": []
   },
   "source": [
    "---\n",
    "\n",
    "\n",
    "\n",
    "\n",
    "*Have questions or comments? Visit the [course discussion forum](https://www.kaggle.com/learn/python/discussion) to chat with other learners.*"
   ]
  }
 ],
 "metadata": {
  "kaggle": {
   "accelerator": "none",
   "dataSources": [],
   "isGpuEnabled": false,
   "isInternetEnabled": false,
   "language": "python",
   "sourceType": "notebook"
  },
  "kernelspec": {
   "display_name": "Python 3",
   "language": "python",
   "name": "python3"
  },
  "language_info": {
   "codemirror_mode": {
    "name": "ipython",
    "version": 3
   },
   "file_extension": ".py",
   "mimetype": "text/x-python",
   "name": "python",
   "nbconvert_exporter": "python",
   "pygments_lexer": "ipython3",
   "version": "3.10.12"
  },
  "learntools_metadata": {
   "lesson_index": 5,
   "type": "exercise"
  },
  "papermill": {
   "default_parameters": {},
   "duration": 5.190719,
   "end_time": "2023-12-04T15:07:03.126555",
   "environment_variables": {},
   "exception": null,
   "input_path": "__notebook__.ipynb",
   "output_path": "__notebook__.ipynb",
   "parameters": {},
   "start_time": "2023-12-04T15:06:57.935836",
   "version": "2.4.0"
  }
 },
 "nbformat": 4,
 "nbformat_minor": 5
}
