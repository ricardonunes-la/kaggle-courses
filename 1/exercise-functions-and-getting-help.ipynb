{
 "cells": [
  {
   "cell_type": "markdown",
   "id": "96237642",
   "metadata": {
    "papermill": {
     "duration": 0.005577,
     "end_time": "2023-11-19T17:10:53.330565",
     "exception": false,
     "start_time": "2023-11-19T17:10:53.324988",
     "status": "completed"
    },
    "tags": []
   },
   "source": [
    "**This notebook is an exercise in the [Python](https://www.kaggle.com/learn/python) course.  You can reference the tutorial at [this link](https://www.kaggle.com/colinmorris/functions-and-getting-help).**\n",
    "\n",
    "---\n"
   ]
  },
  {
   "cell_type": "markdown",
   "id": "9cb71353",
   "metadata": {
    "papermill": {
     "duration": 0.004668,
     "end_time": "2023-11-19T17:10:53.342914",
     "exception": false,
     "start_time": "2023-11-19T17:10:53.338246",
     "status": "completed"
    },
    "tags": []
   },
   "source": [
    "Functions are powerful. Try writing some yourself.\n",
    "\n",
    "As before, don't forget to run the setup code below before jumping into question 1."
   ]
  },
  {
   "cell_type": "code",
   "execution_count": 1,
   "id": "44fcbc91",
   "metadata": {
    "_kg_hide-input": true,
    "_kg_hide-output": true,
    "execution": {
     "iopub.execute_input": "2023-11-19T17:10:53.355546Z",
     "iopub.status.busy": "2023-11-19T17:10:53.354625Z",
     "iopub.status.idle": "2023-11-19T17:10:53.845382Z",
     "shell.execute_reply": "2023-11-19T17:10:53.843921Z"
    },
    "papermill": {
     "duration": 0.500602,
     "end_time": "2023-11-19T17:10:53.848473",
     "exception": false,
     "start_time": "2023-11-19T17:10:53.347871",
     "status": "completed"
    },
    "tags": []
   },
   "outputs": [
    {
     "name": "stdout",
     "output_type": "stream",
     "text": [
      "Setup complete.\n"
     ]
    }
   ],
   "source": [
    "# SETUP. You don't need to worry for now about what this code does or how it works.\n",
    "from learntools.core import binder; binder.bind(globals())\n",
    "from learntools.python.ex2 import *\n",
    "print('Setup complete.')"
   ]
  },
  {
   "cell_type": "markdown",
   "id": "a085decd",
   "metadata": {
    "papermill": {
     "duration": 0.004922,
     "end_time": "2023-11-19T17:10:53.859102",
     "exception": false,
     "start_time": "2023-11-19T17:10:53.854180",
     "status": "completed"
    },
    "tags": []
   },
   "source": [
    "# 1.\n",
    "\n",
    "Complete the body of the following function according to its docstring.\n",
    "\n",
    "HINT: Python has a built-in function `round`."
   ]
  },
  {
   "cell_type": "code",
   "execution_count": 2,
   "id": "4936c96f",
   "metadata": {
    "execution": {
     "iopub.execute_input": "2023-11-19T17:10:53.872945Z",
     "iopub.status.busy": "2023-11-19T17:10:53.872289Z",
     "iopub.status.idle": "2023-11-19T17:10:53.884390Z",
     "shell.execute_reply": "2023-11-19T17:10:53.883156Z"
    },
    "papermill": {
     "duration": 0.021648,
     "end_time": "2023-11-19T17:10:53.886953",
     "exception": false,
     "start_time": "2023-11-19T17:10:53.865305",
     "status": "completed"
    },
    "tags": []
   },
   "outputs": [
    {
     "data": {
      "application/javascript": [
       "parent.postMessage({\"jupyterEvent\": \"custom.exercise_interaction\", \"data\": {\"outcomeType\": 1, \"valueTowardsCompletion\": 0.16666666666666666, \"interactionType\": 1, \"questionType\": 2, \"questionId\": \"1_RoundFunctionProblem\", \"learnToolsVersion\": \"0.3.4\", \"failureMessage\": \"\", \"exceptionClass\": \"\", \"trace\": \"\"}}, \"*\")"
      ],
      "text/plain": [
       "<IPython.core.display.Javascript object>"
      ]
     },
     "metadata": {},
     "output_type": "display_data"
    },
    {
     "data": {
      "text/markdown": [
       "<span style=\"color:#33cc33\">Correct</span>"
      ],
      "text/plain": [
       "Correct"
      ]
     },
     "metadata": {},
     "output_type": "display_data"
    }
   ],
   "source": [
    "def round_to_two_places(num):\n",
    "    \"\"\"Return the given number rounded to two decimal places. \n",
    "    \n",
    "    >>> round_to_two_places(3.14159)\n",
    "    3.14\n",
    "    \"\"\"\n",
    "    return round(num,2)\n",
    "  \n",
    "\n",
    "# Check your answer\n",
    "q1.check()"
   ]
  },
  {
   "cell_type": "code",
   "execution_count": 3,
   "id": "60706e21",
   "metadata": {
    "execution": {
     "iopub.execute_input": "2023-11-19T17:10:53.901120Z",
     "iopub.status.busy": "2023-11-19T17:10:53.899678Z",
     "iopub.status.idle": "2023-11-19T17:10:53.914117Z",
     "shell.execute_reply": "2023-11-19T17:10:53.912933Z"
    },
    "papermill": {
     "duration": 0.023921,
     "end_time": "2023-11-19T17:10:53.916454",
     "exception": false,
     "start_time": "2023-11-19T17:10:53.892533",
     "status": "completed"
    },
    "tags": []
   },
   "outputs": [
    {
     "data": {
      "application/javascript": [
       "parent.postMessage({\"jupyterEvent\": \"custom.exercise_interaction\", \"data\": {\"interactionType\": 2, \"questionType\": 2, \"questionId\": \"1_RoundFunctionProblem\", \"learnToolsVersion\": \"0.3.4\", \"valueTowardsCompletion\": 0.0, \"failureMessage\": \"\", \"exceptionClass\": \"\", \"trace\": \"\", \"outcomeType\": 4}}, \"*\")"
      ],
      "text/plain": [
       "<IPython.core.display.Javascript object>"
      ]
     },
     "metadata": {},
     "output_type": "display_data"
    },
    {
     "data": {
      "text/markdown": [
       "<span style=\"color:#3366cc\">Hint:</span> Run `help(round)` in the console (or in a code cell) to learn more about the round function. You'll need to use the function's optional second argument."
      ],
      "text/plain": [
       "Hint: Run `help(round)` in the console (or in a code cell) to learn more about the round function. You'll need to use the function's optional second argument."
      ]
     },
     "metadata": {},
     "output_type": "display_data"
    },
    {
     "data": {
      "application/javascript": [
       "parent.postMessage({\"jupyterEvent\": \"custom.exercise_interaction\", \"data\": {\"interactionType\": 3, \"questionType\": 2, \"questionId\": \"1_RoundFunctionProblem\", \"learnToolsVersion\": \"0.3.4\", \"valueTowardsCompletion\": 0.0, \"failureMessage\": \"\", \"exceptionClass\": \"\", \"trace\": \"\", \"outcomeType\": 4}}, \"*\")"
      ],
      "text/plain": [
       "<IPython.core.display.Javascript object>"
      ]
     },
     "metadata": {},
     "output_type": "display_data"
    },
    {
     "data": {
      "text/markdown": [
       "<span style=\"color:#33cc99\">Solution:</span> \n",
       "```python\n",
       "return round(num, 2)\n",
       "```"
      ],
      "text/plain": [
       "Solution: \n",
       "```python\n",
       "return round(num, 2)\n",
       "```"
      ]
     },
     "metadata": {},
     "output_type": "display_data"
    }
   ],
   "source": [
    "# Uncomment the following for a hint\n",
    "q1.hint()\n",
    "# Or uncomment the following to peek at the solution\n",
    "q1.solution()\n"
   ]
  },
  {
   "cell_type": "markdown",
   "id": "09a95580",
   "metadata": {
    "papermill": {
     "duration": 0.005529,
     "end_time": "2023-11-19T17:10:53.927905",
     "exception": false,
     "start_time": "2023-11-19T17:10:53.922376",
     "status": "completed"
    },
    "tags": []
   },
   "source": [
    "# 2.\n",
    "The help for `round` says that `ndigits` (the second argument) may be negative.\n",
    "What do you think will happen when it is? Try some examples in the following cell."
   ]
  },
  {
   "cell_type": "code",
   "execution_count": 4,
   "id": "e7986f73",
   "metadata": {
    "execution": {
     "iopub.execute_input": "2023-11-19T17:10:53.942151Z",
     "iopub.status.busy": "2023-11-19T17:10:53.941646Z",
     "iopub.status.idle": "2023-11-19T17:10:53.948203Z",
     "shell.execute_reply": "2023-11-19T17:10:53.947350Z"
    },
    "papermill": {
     "duration": 0.016166,
     "end_time": "2023-11-19T17:10:53.950217",
     "exception": false,
     "start_time": "2023-11-19T17:10:53.934051",
     "status": "completed"
    },
    "tags": []
   },
   "outputs": [
    {
     "data": {
      "text/plain": [
       "100"
      ]
     },
     "execution_count": 4,
     "metadata": {},
     "output_type": "execute_result"
    }
   ],
   "source": [
    "# Put your test code here\n",
    "\n",
    "round (51,-2)"
   ]
  },
  {
   "cell_type": "markdown",
   "id": "aec9142e",
   "metadata": {
    "papermill": {
     "duration": 0.005931,
     "end_time": "2023-11-19T17:10:53.962333",
     "exception": false,
     "start_time": "2023-11-19T17:10:53.956402",
     "status": "completed"
    },
    "tags": []
   },
   "source": [
    "Can you think of a case where this would be useful?  Once you're ready, run the code cell below to see the answer and to receive credit for completing the problem."
   ]
  },
  {
   "cell_type": "markdown",
   "id": "1d728edb",
   "metadata": {
    "papermill": {
     "duration": 0.005785,
     "end_time": "2023-11-19T17:10:53.974286",
     "exception": false,
     "start_time": "2023-11-19T17:10:53.968501",
     "status": "completed"
    },
    "tags": []
   },
   "source": [
    "# 3.\n",
    "\n",
    "In the previous exercise, the candy-sharing friends Alice, Bob and Carol tried to split candies evenly. For the sake of their friendship, any candies left over would be smashed. For example, if they collectively bring home 91 candies, they'll take 30 each and smash 1.\n",
    "\n",
    "Below is a simple function that will calculate the number of candies to smash for *any* number of total candies.\n",
    "\n",
    "Modify it so that it optionally takes a second argument representing the number of friends the candies are being split between. If no second argument is provided, it should assume 3 friends, as before.\n",
    "\n",
    "Update the docstring to reflect this new behaviour."
   ]
  },
  {
   "cell_type": "code",
   "execution_count": 5,
   "id": "be73804c",
   "metadata": {
    "execution": {
     "iopub.execute_input": "2023-11-19T17:10:53.988947Z",
     "iopub.status.busy": "2023-11-19T17:10:53.988174Z",
     "iopub.status.idle": "2023-11-19T17:10:53.995732Z",
     "shell.execute_reply": "2023-11-19T17:10:53.994933Z"
    },
    "papermill": {
     "duration": 0.017355,
     "end_time": "2023-11-19T17:10:53.997859",
     "exception": false,
     "start_time": "2023-11-19T17:10:53.980504",
     "status": "completed"
    },
    "tags": []
   },
   "outputs": [
    {
     "data": {
      "application/javascript": [
       "parent.postMessage({\"jupyterEvent\": \"custom.exercise_interaction\", \"data\": {\"interactionType\": 3, \"questionType\": 4, \"questionId\": \"2_RoundNdigitsProblem\", \"learnToolsVersion\": \"0.3.4\", \"valueTowardsCompletion\": 0.0, \"failureMessage\": \"\", \"exceptionClass\": \"\", \"trace\": \"\", \"outcomeType\": 4}}, \"*\")"
      ],
      "text/plain": [
       "<IPython.core.display.Javascript object>"
      ]
     },
     "metadata": {},
     "output_type": "display_data"
    },
    {
     "data": {
      "text/markdown": [
       "<span style=\"color:#33cc99\">Solution:</span> As you've seen, `ndigits=-1` rounds to the nearest 10, `ndigits=-2` rounds to the nearest 100 and so on. Where might this be useful? Suppose we're dealing with large numbers:\n",
       "\n",
       "> The area of Finland is 338,424 km²  \n",
       "> The area of Greenland is 2,166,086 km²\n",
       "\n",
       "We probably don't care whether it's really 338,424, or 338,425, or 338,177. All those digits of accuracy are just distracting. We can chop them off by calling `round()` with `ndigits=-3`:\n",
       "\n",
       "> The area of Finland is 338,000 km²  \n",
       "> The area of Greenland is 2,166,000 km²\n",
       "\n",
       "(We'll talk about how we would get the commas later when we talk about string formatting :))\n"
      ],
      "text/plain": [
       "Solution: As you've seen, `ndigits=-1` rounds to the nearest 10, `ndigits=-2` rounds to the nearest 100 and so on. Where might this be useful? Suppose we're dealing with large numbers:\n",
       "\n",
       "> The area of Finland is 338,424 km²  \n",
       "> The area of Greenland is 2,166,086 km²\n",
       "\n",
       "We probably don't care whether it's really 338,424, or 338,425, or 338,177. All those digits of accuracy are just distracting. We can chop them off by calling `round()` with `ndigits=-3`:\n",
       "\n",
       "> The area of Finland is 338,000 km²  \n",
       "> The area of Greenland is 2,166,000 km²\n",
       "\n",
       "(We'll talk about how we would get the commas later when we talk about string formatting :))"
      ]
     },
     "metadata": {},
     "output_type": "display_data"
    }
   ],
   "source": [
    "# Check your answer (Run this code cell to receive credit!)\n",
    "q2.solution()"
   ]
  },
  {
   "cell_type": "code",
   "execution_count": 6,
   "id": "e014d2d4",
   "metadata": {
    "execution": {
     "iopub.execute_input": "2023-11-19T17:10:54.013782Z",
     "iopub.status.busy": "2023-11-19T17:10:54.012967Z",
     "iopub.status.idle": "2023-11-19T17:10:54.021037Z",
     "shell.execute_reply": "2023-11-19T17:10:54.020080Z"
    },
    "papermill": {
     "duration": 0.018569,
     "end_time": "2023-11-19T17:10:54.023327",
     "exception": false,
     "start_time": "2023-11-19T17:10:54.004758",
     "status": "completed"
    },
    "tags": []
   },
   "outputs": [
    {
     "data": {
      "application/javascript": [
       "parent.postMessage({\"jupyterEvent\": \"custom.exercise_interaction\", \"data\": {\"outcomeType\": 1, \"valueTowardsCompletion\": 0.16666666666666666, \"interactionType\": 1, \"questionType\": 2, \"questionId\": \"3_CandySmashingFunctionProblem\", \"learnToolsVersion\": \"0.3.4\", \"failureMessage\": \"\", \"exceptionClass\": \"\", \"trace\": \"\"}}, \"*\")"
      ],
      "text/plain": [
       "<IPython.core.display.Javascript object>"
      ]
     },
     "metadata": {},
     "output_type": "display_data"
    },
    {
     "data": {
      "text/markdown": [
       "<span style=\"color:#33cc33\">Correct</span>"
      ],
      "text/plain": [
       "Correct"
      ]
     },
     "metadata": {},
     "output_type": "display_data"
    }
   ],
   "source": [
    "def to_smash(total_candies, num_friends=3):\n",
    "    return total_candies % num_friends\n",
    "\n",
    "# Check your answer\n",
    "q3.check()"
   ]
  },
  {
   "cell_type": "code",
   "execution_count": 7,
   "id": "6d40752a",
   "metadata": {
    "execution": {
     "iopub.execute_input": "2023-11-19T17:10:54.038997Z",
     "iopub.status.busy": "2023-11-19T17:10:54.038517Z",
     "iopub.status.idle": "2023-11-19T17:10:54.047940Z",
     "shell.execute_reply": "2023-11-19T17:10:54.046790Z"
    },
    "papermill": {
     "duration": 0.019739,
     "end_time": "2023-11-19T17:10:54.049925",
     "exception": false,
     "start_time": "2023-11-19T17:10:54.030186",
     "status": "completed"
    },
    "tags": []
   },
   "outputs": [
    {
     "data": {
      "application/javascript": [
       "parent.postMessage({\"jupyterEvent\": \"custom.exercise_interaction\", \"data\": {\"interactionType\": 3, \"questionType\": 2, \"questionId\": \"3_CandySmashingFunctionProblem\", \"learnToolsVersion\": \"0.3.4\", \"valueTowardsCompletion\": 0.0, \"failureMessage\": \"\", \"exceptionClass\": \"\", \"trace\": \"\", \"outcomeType\": 4}}, \"*\")"
      ],
      "text/plain": [
       "<IPython.core.display.Javascript object>"
      ]
     },
     "metadata": {},
     "output_type": "display_data"
    },
    {
     "data": {
      "text/markdown": [
       "<span style=\"color:#33cc99\">Solution:</span> \n",
       "```python\n",
       "def to_smash(total_candies, n_friends=3):\n",
       "    return total_candies % n_friends\n",
       "```"
      ],
      "text/plain": [
       "Solution: \n",
       "```python\n",
       "def to_smash(total_candies, n_friends=3):\n",
       "    return total_candies % n_friends\n",
       "```"
      ]
     },
     "metadata": {},
     "output_type": "display_data"
    }
   ],
   "source": [
    "q3.solution()"
   ]
  },
  {
   "cell_type": "code",
   "execution_count": 8,
   "id": "59d90b36",
   "metadata": {
    "execution": {
     "iopub.execute_input": "2023-11-19T17:10:54.065464Z",
     "iopub.status.busy": "2023-11-19T17:10:54.064971Z",
     "iopub.status.idle": "2023-11-19T17:10:54.074104Z",
     "shell.execute_reply": "2023-11-19T17:10:54.073232Z"
    },
    "papermill": {
     "duration": 0.019451,
     "end_time": "2023-11-19T17:10:54.076178",
     "exception": false,
     "start_time": "2023-11-19T17:10:54.056727",
     "status": "completed"
    },
    "tags": []
   },
   "outputs": [
    {
     "data": {
      "application/javascript": [
       "parent.postMessage({\"jupyterEvent\": \"custom.exercise_interaction\", \"data\": {\"interactionType\": 2, \"questionType\": 2, \"questionId\": \"3_CandySmashingFunctionProblem\", \"learnToolsVersion\": \"0.3.4\", \"valueTowardsCompletion\": 0.0, \"failureMessage\": \"\", \"exceptionClass\": \"\", \"trace\": \"\", \"outcomeType\": 4}}, \"*\")"
      ],
      "text/plain": [
       "<IPython.core.display.Javascript object>"
      ]
     },
     "metadata": {},
     "output_type": "display_data"
    },
    {
     "data": {
      "text/markdown": [
       "<span style=\"color:#3366cc\">Hint:</span> Refer to the section of the last tutorial notebook where we talked about default arguments"
      ],
      "text/plain": [
       "Hint: Refer to the section of the last tutorial notebook where we talked about default arguments"
      ]
     },
     "metadata": {},
     "output_type": "display_data"
    }
   ],
   "source": [
    "q3.hint()"
   ]
  },
  {
   "cell_type": "code",
   "execution_count": 9,
   "id": "17e795ee",
   "metadata": {
    "execution": {
     "iopub.execute_input": "2023-11-19T17:10:54.093976Z",
     "iopub.status.busy": "2023-11-19T17:10:54.093427Z",
     "iopub.status.idle": "2023-11-19T17:10:54.103929Z",
     "shell.execute_reply": "2023-11-19T17:10:54.102624Z"
    },
    "papermill": {
     "duration": 0.022332,
     "end_time": "2023-11-19T17:10:54.106477",
     "exception": false,
     "start_time": "2023-11-19T17:10:54.084145",
     "status": "completed"
    },
    "tags": []
   },
   "outputs": [
    {
     "data": {
      "application/javascript": [
       "parent.postMessage({\"jupyterEvent\": \"custom.exercise_interaction\", \"data\": {\"interactionType\": 3, \"questionType\": 2, \"questionId\": \"3_CandySmashingFunctionProblem\", \"learnToolsVersion\": \"0.3.4\", \"valueTowardsCompletion\": 0.0, \"failureMessage\": \"\", \"exceptionClass\": \"\", \"trace\": \"\", \"outcomeType\": 4}}, \"*\")"
      ],
      "text/plain": [
       "<IPython.core.display.Javascript object>"
      ]
     },
     "metadata": {},
     "output_type": "display_data"
    },
    {
     "data": {
      "text/markdown": [
       "<span style=\"color:#33cc99\">Solution:</span> \n",
       "```python\n",
       "def to_smash(total_candies, n_friends=3):\n",
       "    return total_candies % n_friends\n",
       "```"
      ],
      "text/plain": [
       "Solution: \n",
       "```python\n",
       "def to_smash(total_candies, n_friends=3):\n",
       "    return total_candies % n_friends\n",
       "```"
      ]
     },
     "metadata": {},
     "output_type": "display_data"
    }
   ],
   "source": [
    "q3.solution()"
   ]
  },
  {
   "cell_type": "markdown",
   "id": "ad1f6637",
   "metadata": {
    "papermill": {
     "duration": 0.007213,
     "end_time": "2023-11-19T17:10:54.121159",
     "exception": false,
     "start_time": "2023-11-19T17:10:54.113946",
     "status": "completed"
    },
    "tags": []
   },
   "source": [
    "# 4. (Optional)\n",
    "\n",
    "It may not be fun, but reading and understanding error messages will be an important part of your Python career.\n",
    "\n",
    "Each code cell below contains some commented buggy code. For each cell...\n",
    "\n",
    "1. Read the code and predict what you think will happen when it's run.\n",
    "2. Then uncomment the code and run it to see what happens. (**Tip**: In the kernel editor, you can highlight several lines and press `ctrl`+`/` to toggle commenting.)\n",
    "3. Fix the code (so that it accomplishes its intended purpose without throwing an exception)\n",
    "\n",
    "<!-- TODO: should this be autochecked? Delta is probably pretty small. -->"
   ]
  },
  {
   "cell_type": "code",
   "execution_count": 10,
   "id": "6c5974d1",
   "metadata": {
    "execution": {
     "iopub.execute_input": "2023-11-19T17:10:54.138419Z",
     "iopub.status.busy": "2023-11-19T17:10:54.137984Z",
     "iopub.status.idle": "2023-11-19T17:10:54.143180Z",
     "shell.execute_reply": "2023-11-19T17:10:54.141746Z"
    },
    "papermill": {
     "duration": 0.017109,
     "end_time": "2023-11-19T17:10:54.145742",
     "exception": false,
     "start_time": "2023-11-19T17:10:54.128633",
     "status": "completed"
    },
    "tags": []
   },
   "outputs": [],
   "source": [
    "# ruound_to_two_places(9.9999)"
   ]
  },
  {
   "cell_type": "code",
   "execution_count": 11,
   "id": "39959ade",
   "metadata": {
    "execution": {
     "iopub.execute_input": "2023-11-19T17:10:54.163119Z",
     "iopub.status.busy": "2023-11-19T17:10:54.162664Z",
     "iopub.status.idle": "2023-11-19T17:10:54.167512Z",
     "shell.execute_reply": "2023-11-19T17:10:54.166253Z"
    },
    "papermill": {
     "duration": 0.016512,
     "end_time": "2023-11-19T17:10:54.169956",
     "exception": false,
     "start_time": "2023-11-19T17:10:54.153444",
     "status": "completed"
    },
    "tags": []
   },
   "outputs": [],
   "source": [
    "# x = -10\n",
    "# y = 5\n",
    "# # Which of the two variables above has the smallest absolute value?\n",
    "# smallest_abs = min(abs(x, y))"
   ]
  },
  {
   "cell_type": "code",
   "execution_count": 12,
   "id": "96df0f29",
   "metadata": {
    "execution": {
     "iopub.execute_input": "2023-11-19T17:10:54.187255Z",
     "iopub.status.busy": "2023-11-19T17:10:54.186829Z",
     "iopub.status.idle": "2023-11-19T17:10:54.191500Z",
     "shell.execute_reply": "2023-11-19T17:10:54.190273Z"
    },
    "papermill": {
     "duration": 0.016169,
     "end_time": "2023-11-19T17:10:54.193781",
     "exception": false,
     "start_time": "2023-11-19T17:10:54.177612",
     "status": "completed"
    },
    "tags": []
   },
   "outputs": [],
   "source": [
    "# def f(x):\n",
    " #    y = abs(x)\n",
    " #return y\n",
    "\n",
    " #print(f(5))"
   ]
  },
  {
   "cell_type": "markdown",
   "id": "a14d4e31",
   "metadata": {
    "papermill": {
     "duration": 0.006957,
     "end_time": "2023-11-19T17:10:54.208191",
     "exception": false,
     "start_time": "2023-11-19T17:10:54.201234",
     "status": "completed"
    },
    "tags": []
   },
   "source": [
    "# Keep Going\n",
    "\n",
    "Nice job with the code. Next up, you'll learn about *conditionals*, which you'll need to **[write interesting programs](https://www.kaggle.com/colinmorris/booleans-and-conditionals)**. "
   ]
  },
  {
   "cell_type": "markdown",
   "id": "83b04224",
   "metadata": {
    "papermill": {
     "duration": 0.007171,
     "end_time": "2023-11-19T17:10:54.222722",
     "exception": false,
     "start_time": "2023-11-19T17:10:54.215551",
     "status": "completed"
    },
    "tags": []
   },
   "source": [
    "---\n",
    "\n",
    "\n",
    "\n",
    "\n",
    "*Have questions or comments? Visit the [course discussion forum](https://www.kaggle.com/learn/python/discussion) to chat with other learners.*"
   ]
  }
 ],
 "metadata": {
  "kaggle": {
   "accelerator": "none",
   "dataSources": [],
   "isGpuEnabled": false,
   "isInternetEnabled": false,
   "language": "python",
   "sourceType": "notebook"
  },
  "kernelspec": {
   "display_name": "Python 3",
   "language": "python",
   "name": "python3"
  },
  "language_info": {
   "codemirror_mode": {
    "name": "ipython",
    "version": 3
   },
   "file_extension": ".py",
   "mimetype": "text/x-python",
   "name": "python",
   "nbconvert_exporter": "python",
   "pygments_lexer": "ipython3",
   "version": "3.10.12"
  },
  "learntools_metadata": {
   "lesson_index": 1,
   "type": "exercise"
  },
  "papermill": {
   "default_parameters": {},
   "duration": 4.873655,
   "end_time": "2023-11-19T17:10:54.852236",
   "environment_variables": {},
   "exception": null,
   "input_path": "__notebook__.ipynb",
   "output_path": "__notebook__.ipynb",
   "parameters": {},
   "start_time": "2023-11-19T17:10:49.978581",
   "version": "2.4.0"
  }
 },
 "nbformat": 4,
 "nbformat_minor": 5
}
